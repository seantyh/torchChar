{
 "cells": [
  {
   "cell_type": "code",
   "execution_count": 1,
   "metadata": {},
   "outputs": [],
   "source": [
    "%load_ext autoreload\n",
    "%autoreload 2\n",
    "%matplotlib inline"
   ]
  },
  {
   "cell_type": "code",
   "execution_count": 2,
   "metadata": {},
   "outputs": [],
   "source": [
    "import sys\n",
    "sys.path.append(\"../src\")"
   ]
  },
  {
   "cell_type": "code",
   "execution_count": 3,
   "metadata": {},
   "outputs": [],
   "source": [
    "import torchChar\n",
    "import json\n",
    "import numpy as np\n",
    "import matplotlib.pyplot as plt\n"
   ]
  },
  {
   "cell_type": "code",
   "execution_count": 25,
   "metadata": {},
   "outputs": [
    {
     "data": {
      "text/plain": [
       "[<FontFamily.Ming: 1>,\n",
       " <FontFamily.Kai: 2>,\n",
       " <FontFamily.Yen: 3>,\n",
       " <FontFamily.FangSong: 4>]"
      ]
     },
     "execution_count": 25,
     "metadata": {},
     "output_type": "execute_result"
    }
   ],
   "source": [
    "list(torchChar.FontFamily)"
   ]
  },
  {
   "cell_type": "code",
   "execution_count": 4,
   "metadata": {},
   "outputs": [],
   "source": [
    "moe_json = torchChar.get_data_dir() / \"dict-revised.json\""
   ]
  },
  {
   "cell_type": "code",
   "execution_count": 5,
   "metadata": {},
   "outputs": [],
   "source": [
    "with open(moe_json, \"r\", encoding=\"UTF-8\") as fin:\n",
    "    moe = json.load(fin)"
   ]
  },
  {
   "cell_type": "code",
   "execution_count": 6,
   "metadata": {},
   "outputs": [
    {
     "name": "stdout",
     "output_type": "stream",
     "text": [
      "11896 1717\n"
     ]
    }
   ],
   "source": [
    "lexicon, n_homophone = torchChar.build_lexicon(moe)\n",
    "print(len(lexicon), n_homophone)"
   ]
  },
  {
   "cell_type": "code",
   "execution_count": 7,
   "metadata": {},
   "outputs": [
    {
     "data": {
      "text/plain": [
       "[Character(title='曾', strokes=12, radical='曰', zhuyin='ㄗㄥ'),\n",
       " Character(title='曾', strokes=12, radical='曰', zhuyin='ㄘㄥˊ')]"
      ]
     },
     "execution_count": 7,
     "metadata": {},
     "output_type": "execute_result"
    }
   ],
   "source": [
    "[x for x in lexicon if x.title == \"曾\"]"
   ]
  },
  {
   "cell_type": "code",
   "execution_count": 18,
   "metadata": {},
   "outputs": [],
   "source": [
    "examples = torchChar.build_examples(lexicon, torchChar.FontFamily.Ming)"
   ]
  },
  {
   "cell_type": "code",
   "execution_count": 20,
   "metadata": {},
   "outputs": [],
   "source": [
    "import pandas as pd"
   ]
  },
  {
   "cell_type": "code",
   "execution_count": 26,
   "metadata": {},
   "outputs": [],
   "source": [
    "dd =  pd.DataFrame.from_records(\n",
    "    [(x.title, x.strokes, x.radical, x.zhuyin, x.font_family) for x in examples], \n",
    "    columns = [\"title\", \"strokes\", \"radical\", \"zhuyin\", \"font_family\"])"
   ]
  },
  {
   "cell_type": "code",
   "execution_count": 27,
   "metadata": {},
   "outputs": [
    {
     "data": {
      "text/html": [
       "<div>\n",
       "<style scoped>\n",
       "    .dataframe tbody tr th:only-of-type {\n",
       "        vertical-align: middle;\n",
       "    }\n",
       "\n",
       "    .dataframe tbody tr th {\n",
       "        vertical-align: top;\n",
       "    }\n",
       "\n",
       "    .dataframe thead th {\n",
       "        text-align: right;\n",
       "    }\n",
       "</style>\n",
       "<table border=\"1\" class=\"dataframe\">\n",
       "  <thead>\n",
       "    <tr style=\"text-align: right;\">\n",
       "      <th></th>\n",
       "      <th>title</th>\n",
       "      <th>strokes</th>\n",
       "      <th>radical</th>\n",
       "      <th>zhuyin</th>\n",
       "      <th>font_family</th>\n",
       "    </tr>\n",
       "  </thead>\n",
       "  <tbody>\n",
       "    <tr>\n",
       "      <td>0</td>\n",
       "      <td>一</td>\n",
       "      <td>1</td>\n",
       "      <td>一</td>\n",
       "      <td>ㄧ</td>\n",
       "      <td>Ming</td>\n",
       "    </tr>\n",
       "    <tr>\n",
       "      <td>1</td>\n",
       "      <td>丁</td>\n",
       "      <td>2</td>\n",
       "      <td>一</td>\n",
       "      <td>ㄉㄧㄥ</td>\n",
       "      <td>Ming</td>\n",
       "    </tr>\n",
       "    <tr>\n",
       "      <td>2</td>\n",
       "      <td>丁</td>\n",
       "      <td>2</td>\n",
       "      <td>一</td>\n",
       "      <td>ㄓㄥ</td>\n",
       "      <td>Ming</td>\n",
       "    </tr>\n",
       "    <tr>\n",
       "      <td>3</td>\n",
       "      <td>丂</td>\n",
       "      <td>2</td>\n",
       "      <td>一</td>\n",
       "      <td>ㄎㄠˇ</td>\n",
       "      <td>Ming</td>\n",
       "    </tr>\n",
       "    <tr>\n",
       "      <td>4</td>\n",
       "      <td>七</td>\n",
       "      <td>2</td>\n",
       "      <td>一</td>\n",
       "      <td>ㄑㄧ</td>\n",
       "      <td>Ming</td>\n",
       "    </tr>\n",
       "    <tr>\n",
       "      <td>...</td>\n",
       "      <td>...</td>\n",
       "      <td>...</td>\n",
       "      <td>...</td>\n",
       "      <td>...</td>\n",
       "      <td>...</td>\n",
       "    </tr>\n",
       "    <tr>\n",
       "      <td>11637</td>\n",
       "      <td>龠</td>\n",
       "      <td>17</td>\n",
       "      <td>龠</td>\n",
       "      <td>ㄩㄝˋ</td>\n",
       "      <td>Ming</td>\n",
       "    </tr>\n",
       "    <tr>\n",
       "      <td>11638</td>\n",
       "      <td>龢</td>\n",
       "      <td>22</td>\n",
       "      <td>龠</td>\n",
       "      <td>ㄏㄜˊ</td>\n",
       "      <td>Ming</td>\n",
       "    </tr>\n",
       "    <tr>\n",
       "      <td>11639</td>\n",
       "      <td>龤</td>\n",
       "      <td>26</td>\n",
       "      <td>龠</td>\n",
       "      <td>ㄒㄧㄝˊ</td>\n",
       "      <td>Ming</td>\n",
       "    </tr>\n",
       "    <tr>\n",
       "      <td>11640</td>\n",
       "      <td>𦌊</td>\n",
       "      <td>16</td>\n",
       "      <td>网</td>\n",
       "      <td>ㄙㄨˋ</td>\n",
       "      <td>Ming</td>\n",
       "    </tr>\n",
       "    <tr>\n",
       "      <td>11641</td>\n",
       "      <td>𨉣</td>\n",
       "      <td>16</td>\n",
       "      <td>身</td>\n",
       "      <td>ㄏㄚ</td>\n",
       "      <td>Ming</td>\n",
       "    </tr>\n",
       "  </tbody>\n",
       "</table>\n",
       "<p>11642 rows × 5 columns</p>\n",
       "</div>"
      ],
      "text/plain": [
       "      title  strokes radical zhuyin font_family\n",
       "0         一        1       一      ㄧ        Ming\n",
       "1         丁        2       一    ㄉㄧㄥ        Ming\n",
       "2         丁        2       一     ㄓㄥ        Ming\n",
       "3         丂        2       一    ㄎㄠˇ        Ming\n",
       "4         七        2       一     ㄑㄧ        Ming\n",
       "...     ...      ...     ...    ...         ...\n",
       "11637     龠       17       龠    ㄩㄝˋ        Ming\n",
       "11638     龢       22       龠    ㄏㄜˊ        Ming\n",
       "11639     龤       26       龠   ㄒㄧㄝˊ        Ming\n",
       "11640     𦌊       16       网    ㄙㄨˋ        Ming\n",
       "11641     𨉣       16       身     ㄏㄚ        Ming\n",
       "\n",
       "[11642 rows x 5 columns]"
      ]
     },
     "execution_count": 27,
     "metadata": {},
     "output_type": "execute_result"
    }
   ],
   "source": [
    "dd"
   ]
  },
  {
   "cell_type": "code",
   "execution_count": 33,
   "metadata": {},
   "outputs": [
    {
     "data": {
      "text/plain": [
       "'禦'"
      ]
     },
     "execution_count": 33,
     "metadata": {},
     "output_type": "execute_result"
    }
   ],
   "source": [
    "examples[6559].title"
   ]
  },
  {
   "cell_type": "code",
   "execution_count": 34,
   "metadata": {},
   "outputs": [
    {
     "data": {
      "text/plain": [
       "<matplotlib.image.AxesImage at 0x1f4134fa1c8>"
      ]
     },
     "execution_count": 34,
     "metadata": {},
     "output_type": "execute_result"
    },
    {
     "data": {
      "image/png": "[encoded data removed]",
      "text/plain": [
       "<Figure size 432x288 with 1 Axes>"
      ]
     },
     "metadata": {
      "needs_background": "light"
     },
     "output_type": "display_data"
    }
   ],
   "source": [
    "plt.imshow(examples[6559].bitmap)"
   ]
  },
  {
   "cell_type": "code",
   "execution_count": 40,
   "metadata": {},
   "outputs": [],
   "source": [
    "import pickle\n",
    "with (torchChar.get_data_dir() / \"train_examples/char_examples_Yen.pkl\").open(\"rb\") as fin:\n",
    "    yen = pickle.load(fin)\n",
    "with (torchChar.get_data_dir() / \"train_examples/char_examples_Ming.pkl\").open(\"rb\") as fin:\n",
    "    ming = pickle.load(fin)\n",
    "with (torchChar.get_data_dir() / \"train_examples/char_examples_FangSong.pkl\").open(\"rb\") as fin:\n",
    "    song = pickle.load(fin)\n",
    "with (torchChar.get_data_dir() / \"train_examples/char_examples_Kai.pkl\").open(\"rb\") as fin:\n",
    "    kai = pickle.load(fin)\n"
   ]
  },
  {
   "cell_type": "code",
   "execution_count": 45,
   "metadata": {},
   "outputs": [
    {
     "data": {
      "text/plain": [
       "<matplotlib.image.AxesImage at 0x1f42848f3c8>"
      ]
     },
     "execution_count": 45,
     "metadata": {},
     "output_type": "execute_result"
    },
    {
     "data": {
      "image/png": "[encoded data removed]",
      "text/plain": [
       "<Figure size 432x288 with 4 Axes>"
      ]
     },
     "metadata": {
      "needs_background": "light"
     },
     "output_type": "display_data"
    }
   ],
   "source": [
    "fig, ax = plt.subplots(2, 2)\n",
    "def get_bitmap(data, char):\n",
    "    return [x.bitmap for x in data if x.title==char][0]\n",
    "ch = \"經\"\n",
    "ax[0][0].imshow(get_bitmap(ming, ch))\n",
    "ax[0][1].imshow(get_bitmap(yen, ch))\n",
    "ax[1][0].imshow(get_bitmap(kai, ch))\n",
    "ax[1][1].imshow(get_bitmap(song, ch))"
   ]
  },
  {
   "cell_type": "code",
   "execution_count": null,
   "metadata": {},
   "outputs": [],
   "source": []
  }
 ],
 "metadata": {
  "kernelspec": {
   "display_name": "Python 3",
   "language": "python",
   "name": "python3"
  },
  "language_info": {
   "codemirror_mode": {
    "name": "ipython",
    "version": 3
   },
   "file_extension": ".py",
   "mimetype": "text/x-python",
   "name": "python",
   "nbconvert_exporter": "python",
   "pygments_lexer": "ipython3",
   "version": "3.7.4"
  }
 },
 "nbformat": 4,
 "nbformat_minor": 4
}
